{
 "cells": [
  {
   "cell_type": "code",
   "execution_count": 12,
   "metadata": {},
   "outputs": [
    {
     "name": "stdout",
     "output_type": "stream",
     "text": [
      "NAND Gate Testing\n",
      "Input: [0 0], Predicted Output: 1, Expected Output: 1\n",
      "Input: [0 1], Predicted Output: 1, Expected Output: 1\n",
      "Input: [1 0], Predicted Output: 1, Expected Output: 1\n",
      "Input: [1 1], Predicted Output: 0, Expected Output: 0\n",
      "\n",
      "XOR Gate Testing\n",
      "Input: [0 0], Predicted Output: 1, Expected Output: 0\n",
      "Input: [0 1], Predicted Output: 1, Expected Output: 1\n",
      "Input: [1 0], Predicted Output: 0, Expected Output: 1\n",
      "Input: [1 1], Predicted Output: 0, Expected Output: 0\n"
     ]
    }
   ],
   "source": [
    "# 1. WAP to implement the Perceptron Learning Algorithm using numpy in Python. Evaluate performance of a single perceptron for NAND and XOR truth tables as input dataset.\n",
    "\n",
    "#  Import Required Libraries\n",
    "import numpy as np\n",
    "\n",
    "#  Define Perceptron Class\n",
    "class Perceptron:\n",
    "    def __init__(self, input_size, learning_rate=0.1, epochs=100):\n",
    "        # Initialize weights and bias with small random values\n",
    "        self.weights = np.random.rand(input_size)\n",
    "        self.bias = np.random.rand(1)\n",
    "        self.learning_rate = learning_rate\n",
    "        self.epochs = epochs\n",
    "    \n",
    "    def activation(self, x):\n",
    "        \"\"\"Step activation function (Threshold = 0)\"\"\"\n",
    "        return 1 if x >= 0 else 0\n",
    "    \n",
    "    def predict(self, X):\n",
    "        \"\"\"Compute the output of the perceptron for input X\"\"\"\n",
    "        linear_output = np.dot(X, self.weights) + self.bias\n",
    "        return self.activation(linear_output)\n",
    "    \n",
    "    def train(self, X, y):\n",
    "        \"\"\"Train the perceptron using the Perceptron Learning Rule\"\"\"\n",
    "        for epoch in range(self.epochs):\n",
    "            for i in range(len(X)):\n",
    "                prediction = self.predict(X[i])  # Get perceptron output\n",
    "                error = y[i] - prediction  # Compute error\n",
    "                \n",
    "                # Update weights and bias based on error\n",
    "                self.weights += self.learning_rate * error * X[i]\n",
    "                self.bias += self.learning_rate * error\n",
    "\n",
    "#  Define Truth Tables for NAND and XOR\n",
    "# Define NAND truth table\n",
    "data_NAND = np.array([[0, 0], [0, 1], [1, 0], [1, 1]])\n",
    "labels_NAND = np.array([1, 1, 1, 0])  # NAND output\n",
    "\n",
    "# Define XOR truth table\n",
    "data_XOR = np.array([[0, 0], [0, 1], [1, 0], [1, 1]])\n",
    "labels_XOR = np.array([0, 1, 1, 0])  # XOR output\n",
    "\n",
    "# Train perceptron for NAND\n",
    "target_NAND = Perceptron(input_size=2)\n",
    "target_NAND.train(data_NAND, labels_NAND)\n",
    "\n",
    "# Test perceptron for NAND\n",
    "print(\"NAND Gate Testing\")\n",
    "for i in range(len(data_NAND)):\n",
    "    print(f\"Input: {data_NAND[i]}, Predicted Output: {target_NAND.predict(data_NAND[i])}, Expected Output: {labels_NAND[i]}\")\n",
    "\n",
    "# Train perceptron for XOR\n",
    "target_XOR = Perceptron(input_size=2)\n",
    "target_XOR.train(data_XOR, labels_XOR)\n",
    "\n",
    "# Test perceptron for XOR\n",
    "print(\"\\nXOR Gate Testing\")\n",
    "for i in range(len(data_XOR)):\n",
    "    print(f\"Input: {data_XOR[i]}, Predicted Output: {target_XOR.predict(data_XOR[i])}, Expected Output: {labels_XOR[i]}\")\n",
    "\n"
   ]
  },
  {
   "cell_type": "code",
   "execution_count": null,
   "metadata": {},
   "outputs": [],
   "source": []
  }
 ],
 "metadata": {
  "kernelspec": {
   "display_name": "Python 3",
   "language": "python",
   "name": "python3"
  },
  "language_info": {
   "codemirror_mode": {
    "name": "ipython",
    "version": 3
   },
   "file_extension": ".py",
   "mimetype": "text/x-python",
   "name": "python",
   "nbconvert_exporter": "python",
   "pygments_lexer": "ipython3",
   "version": "3.8.6"
  }
 },
 "nbformat": 4,
 "nbformat_minor": 2
}
