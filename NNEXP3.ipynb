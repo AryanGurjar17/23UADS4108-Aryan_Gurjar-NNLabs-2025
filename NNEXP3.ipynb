{
  "cells": [
    {
      "cell_type": "markdown",
      "metadata": {
        "id": "sIcb4wJHig9T"
      },
      "source": [
        "##**Objective:**\n",
        "- WAP to implement a three-layer neural network using Tensor flow library (only, no keras) to classify MNIST handwritten digits dataset. Demonstrate the implementation of feed-forward and back-propagation approaches."
      ]
    },
    {
      "cell_type": "markdown",
      "metadata": {
        "id": "UQ8CoMARYJBu"
      },
      "source": [
        "##**Description of the Model:**\n",
        "This is a three-layer neural network implemented using TensorFlow (without Keras) for classifying handwritten digits from the MNIST dataset.\n",
        "\n",
        "The model consists of:\n",
        "- Input Layer (784 neurons): Accepts flattened 28x28 pixel images.\n",
        "- Hidden Layer 1 (128 neurons): Uses ReLU activation to learn non-linear features.\n",
        "- Hidden Layer 2 (64 neurons): Uses ReLU activation for deeper representation.\n",
        "- Output Layer (10 neurons): Uses softmax activation to classify digits (0-9).\n",
        "- Loss Function: Categorical cross-entropy.\n",
        "- Optimizer: Adam Optimizer.\n",
        "- Training: Mini-batch Gradient Descent with batch size = 32."
      ]
    },
    {
      "cell_type": "markdown",
      "metadata": {
        "id": "NP1Z2ttWYLC8"
      },
      "source": [
        "##**Python Implementation**"
      ]
    },
    {
      "cell_type": "code",
      "execution_count": 2,
      "metadata": {},
      "outputs": [
        {
          "ename": "ModuleNotFoundError",
          "evalue": "No module named 'tensorflow'",
          "output_type": "error",
          "traceback": [
            "\u001b[1;31m---------------------------------------------------------------------------\u001b[0m",
            "\u001b[1;31mModuleNotFoundError\u001b[0m                       Traceback (most recent call last)",
            "Cell \u001b[1;32mIn[2], line 1\u001b[0m\n\u001b[1;32m----> 1\u001b[0m \u001b[38;5;28;01mimport\u001b[39;00m\u001b[38;5;250m \u001b[39m\u001b[38;5;21;01mtensorflow\u001b[39;00m\u001b[38;5;250m \u001b[39m\u001b[38;5;28;01mas\u001b[39;00m\u001b[38;5;250m \u001b[39m\u001b[38;5;21;01mtf\u001b[39;00m\n\u001b[0;32m      2\u001b[0m \u001b[38;5;28;01mimport\u001b[39;00m\u001b[38;5;250m \u001b[39m\u001b[38;5;21;01mnumpy\u001b[39;00m\u001b[38;5;250m \u001b[39m\u001b[38;5;28;01mas\u001b[39;00m\u001b[38;5;250m \u001b[39m\u001b[38;5;21;01mnp\u001b[39;00m\n\u001b[0;32m      3\u001b[0m \u001b[38;5;28;01mfrom\u001b[39;00m\u001b[38;5;250m \u001b[39m\u001b[38;5;21;01mtensorflow\u001b[39;00m\u001b[38;5;21;01m.\u001b[39;00m\u001b[38;5;21;01mpython\u001b[39;00m\u001b[38;5;21;01m.\u001b[39;00m\u001b[38;5;21;01mframework\u001b[39;00m\u001b[38;5;250m \u001b[39m\u001b[38;5;28;01mimport\u001b[39;00m ops\n",
            "\u001b[1;31mModuleNotFoundError\u001b[0m: No module named 'tensorflow'"
          ]
        }
      ],
      "source": [
        "import tensorflow as tf\n",
        "import numpy as np\n",
        "from tensorflow.python.framework import ops\n",
        "\n",
        "# Disable eager execution to use tf.compat.v1.placeholder\n",
        "tf.compat.v1.disable_eager_execution()\n",
        "\n",
        "# Load MNIST dataset\n",
        "mnist = tf.keras.datasets.mnist\n",
        "(x_train, y_train), (x_test, y_test) = mnist.load_data()\n",
        "\n",
        "# Normalize and reshape input data\n",
        "x_train, x_test = x_train / 255.0, x_test / 255.0\n",
        "x_train = x_train.reshape(-1, 784)  # Flattening 28x28 images\n",
        "x_test = x_test.reshape(-1, 784)\n",
        "\n",
        "# One-hot encoding for labels\n",
        "y_train = np.eye(10)[y_train]\n",
        "y_test = np.eye(10)[y_test]\n",
        "\n",
        "# Reset default graph\n",
        "ops.reset_default_graph()\n",
        "\n",
        "# Define placeholders\n",
        "X = tf.compat.v1.placeholder(tf.float32, [None, 784])\n",
        "Y = tf.compat.v1.placeholder(tf.float32, [None, 10])\n",
        "\n",
        "# Define model parameters\n",
        "def init_weights(shape):\n",
        "    return tf.Variable(tf.compat.v1.random_normal(shape, stddev=0.1))\n",
        "\n",
        "W1 = init_weights([784, 128])\n",
        "b1 = tf.Variable(tf.zeros([128]))\n",
        "\n",
        "W2 = init_weights([128, 64])\n",
        "b2 = tf.Variable(tf.zeros([64]))\n",
        "\n",
        "W3 = init_weights([64, 10])\n",
        "b3 = tf.Variable(tf.zeros([10]))\n",
        "\n",
        "# Feed-forward pass (NO softmax here)\n",
        "def forward_propagation(X):\n",
        "    z1 = tf.matmul(X, W1) + b1\n",
        "    a1 = tf.nn.relu(z1)\n",
        "\n",
        "    z2 = tf.matmul(a1, W2) + b2\n",
        "    a2 = tf.nn.relu(z2)\n",
        "\n",
        "    z3 = tf.matmul(a2, W3) + b3  # Output logits (no softmax)\n",
        "    return z3  # No softmax here\n",
        "\n",
        "logits = forward_propagation(X)\n",
        "\n",
        "# Correct loss function\n",
        "loss = tf.reduce_mean(tf.nn.softmax_cross_entropy_with_logits(logits=logits, labels=Y))\n",
        "\n",
        "# Back-propagation using Adam Optimizer\n",
        "learning_rate = 0.01\n",
        "optimizer = tf.compat.v1.train.AdamOptimizer(learning_rate).minimize(loss)\n",
        "\n",
        "# Accuracy metric\n",
        "correct_pred = tf.equal(tf.argmax(logits, 1), tf.argmax(Y, 1))\n",
        "accuracy = tf.reduce_mean(tf.cast(correct_pred, tf.float32))\n",
        "\n",
        "# Training\n",
        "epochs = 20\n",
        "batch_size = 32\n",
        "\n",
        "with tf.compat.v1.Session() as sess:\n",
        "    sess.run(tf.compat.v1.global_variables_initializer())\n",
        "\n",
        "    for epoch in range(epochs):\n",
        "        for i in range(0, x_train.shape[0], batch_size):\n",
        "            batch_x = x_train[i:i+batch_size]\n",
        "            batch_y = y_train[i:i+batch_size]\n",
        "            sess.run(optimizer, feed_dict={X: batch_x, Y: batch_y})\n",
        "\n",
        "        train_loss, train_acc = sess.run([loss, accuracy], feed_dict={X: x_train, Y: y_train})\n",
        "        print(f\"Epoch {epoch+1}, Loss: {train_loss:.4f}, Accuracy: {train_acc:.4f}\")\n",
        "\n",
        "    # Evaluate on test set\n",
        "    test_acc = sess.run(accuracy, feed_dict={X: x_test, Y: y_test})\n",
        "    print(f\"\\nTest Accuracy: {test_acc:.4f}\")\n"
      ]
    },
    {
      "cell_type": "markdown",
      "metadata": {
        "id": "rNhy663cYUUg"
      },
      "source": [
        "##**Code Explanation:**\n",
        "1. Load & Preprocess Data\n",
        "\n",
        "- Normalize images (x_train & x_test in range [0,1]).\n",
        "- Flatten images (28x28 → 784).\n",
        "- Convert labels to one-hot encoding.\n",
        "\n",
        "2. Initialize Model Parameters\n",
        "- Weights (W1, W2, W3) initialized with small random values.\n",
        "- Biases (b1, b2, b3) initialized as zeros.\n",
        "\n",
        "3. Feed-Forward Propagation\n",
        "- Layer 1: a1 = ReLU(X * W1 + b1).\n",
        "- Layer 2: a2 = ReLU(a1 * W2 + b2).\n",
        "- Output Layer: softmax(a2 * W3 + b3).\n",
        "4. Loss Calculation\n",
        "- Uses softmax_cross_entropy_with_logits_v2.\n",
        "\n",
        "5. Backpropagation & Optimization\n",
        "- Uses AdamOptimizer().\n",
        "- Updates weights and biases.\n",
        "\n",
        "6. Training (Mini-Batch Gradient Descent)\n",
        "- Iterates through 10 epochs with batch size = 32.\n",
        "- Prints training loss & accuracy.\n",
        "\n",
        "7. Testing\n",
        "- Evaluates the trained model on test data."
      ]
    },
    {
      "cell_type": "markdown",
      "metadata": {
        "id": "NxaOmVu9YUHu"
      },
      "source": [
        "##**My Comments:**\n",
        "- ✅ Good Implementation: Uses raw TensorFlow without Keras for full control.\n",
        "- ✅ Efficient Training: Uses mini-batch gradient descent.\n",
        "- ✅ Basic Model: Works well for MNIST but may not generalize to complex tasks.\n",
        "- 🔹 Improvement Suggestion: Use Adam optimizer instead of SGD for faster convergence.\n"
      ]
    }
  ],
  "metadata": {
    "colab": {
      "provenance": []
    },
    "kernelspec": {
      "display_name": "Python 3",
      "name": "python3"
    },
    "language_info": {
      "codemirror_mode": {
        "name": "ipython",
        "version": 3
      },
      "file_extension": ".py",
      "mimetype": "text/x-python",
      "name": "python",
      "nbconvert_exporter": "python",
      "pygments_lexer": "ipython3",
      "version": "3.13.2"
    }
  },
  "nbformat": 4,
  "nbformat_minor": 0
}
